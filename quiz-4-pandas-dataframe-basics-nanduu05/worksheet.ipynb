{
 "cells": [
  {
   "cell_type": "code",
   "execution_count": 21,
   "metadata": {},
   "outputs": [],
   "source": [
    "import pandas as pd\n",
    "import numpy as np"
   ]
  },
  {
   "cell_type": "markdown",
   "metadata": {},
   "source": [
    "# Q1.\n",
    "\n",
    "✎ Implement a function that builds the following dataframe.\n",
    "\n",
    "|month| city | product_name | sales |\n",
    "|-----|------|---------|-------|\n",
    "|Jan  |Toronto | bread | 190 |\n",
    "|Jan  |Montreal | bread | 210 |\n",
    "|Jan  |Ottawa | bread | 190 |\n",
    "|Jan  |Vancouver | bread | 210 |\n",
    "|Jan  |Toronto | cheese | 310 |\n",
    "|Jan  |Montreal | cheese | 510 |\n",
    "|Feb  |Toronto | bread | 230 |\n",
    "|Feb  |Montreal | bread | 220 |\n",
    "|Feb  |Montreal | cheese | 310 |\n"
   ]
  },
  {
   "cell_type": "code",
   "execution_count": 22,
   "metadata": {},
   "outputs": [],
   "source": [
    "def build_df():\n",
    "    df = pd.DataFrame(\n",
    "    [[\"Jan\",\"Toronto\",\"bread\",190],\n",
    "    [\"Jan\",\"Montreal\",\"bread\",210],\n",
    "    [\"Jan\",\"Ottawa\",\"bread\",190],\n",
    "    [\"Jan\",\"Vancouver\",\"bread\",210],\n",
    "    [\"Jan\",\"Toronto\",\"cheese\",310],\n",
    "    [\"Jan\",\"Montreal\",\"cheese\",510],\n",
    "    [\"Feb\",\"Toronto\",\"bread\",230],\n",
    "    [\"Feb\",\"Montreal\",\"bread\",220],\n",
    "    [\"Feb\",\"Montreal\",\"cheese\",310]])\n",
    "    df.columns = ['month','city','product_name','sales']\n",
    "    return df\n",
    "\n",
    "\n",
    "    # Complete"
   ]
  },
  {
   "cell_type": "markdown",
   "metadata": {},
   "source": [
    "# Q2.\n",
    "\n",
    "✎ Implement a function that retrieves the column 'city' as a series.\n",
    "\n",
    "The function expected a dataframe that is built by `build_df`."
   ]
  },
  {
   "cell_type": "code",
   "execution_count": 23,
   "metadata": {},
   "outputs": [],
   "source": [
    "def city_column(df):\n",
    "    return df['city']\n",
    "    # complete"
   ]
  },
  {
   "cell_type": "markdown",
   "metadata": {},
   "source": [
    "# Q3\n",
    "\n",
    "Find the rows of involving the product of _cheese_.\n",
    "\n",
    "Again, you need to implement a function that accepts the dataframe as its argument, and returns\n",
    "a new dataframe with rows corresponding to _cheese_."
   ]
  },
  {
   "cell_type": "code",
   "execution_count": 24,
   "metadata": {},
   "outputs": [],
   "source": [
    "def cheese_rows(df):\n",
    "    return df[df.product_name == 'cheese']\n",
    "\n",
    "    # complete"
   ]
  },
  {
   "cell_type": "markdown",
   "metadata": {},
   "source": [
    "# Q4\n",
    "\n",
    "Find the cities and sales of cheese in a given month.\n",
    "\n",
    "Implement a function that performs the data processing.  The function accepts two arguments:\n",
    "\n",
    "1. the dataframe built by `build_df()`.\n",
    "2. the month as a string, e.g. \"Jan\", \"Feb\"."
   ]
  },
  {
   "cell_type": "code",
   "execution_count": 25,
   "metadata": {},
   "outputs": [],
   "source": [
    "def cheese_sales(df, month):\n",
    "     return cheese_rows(df).loc[df.month == month, [\"city\",\"sales\"]]\n",
    "    # complete"
   ]
  },
  {
   "cell_type": "code",
   "execution_count": null,
   "metadata": {},
   "outputs": [],
   "source": []
  }
 ],
 "metadata": {
  "kernelspec": {
   "display_name": "Python 3",
   "language": "python",
   "name": "python3"
  },
  "language_info": {
   "codemirror_mode": {
    "name": "ipython",
    "version": 3
   },
   "file_extension": ".py",
   "mimetype": "text/x-python",
   "name": "python",
   "nbconvert_exporter": "python",
   "pygments_lexer": "ipython3",
   "version": "3.7.3"
  }
 },
 "nbformat": 4,
 "nbformat_minor": 4
}
