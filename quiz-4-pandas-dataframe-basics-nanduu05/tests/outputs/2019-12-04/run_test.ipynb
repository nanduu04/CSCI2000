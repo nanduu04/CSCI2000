{
 "cells": [
  {
   "cell_type": "code",
   "execution_count": 1,
   "metadata": {},
   "outputs": [],
   "source": [
    "import pandas as pd\n",
    "import numpy as np"
   ]
  },
  {
   "cell_type": "markdown",
   "metadata": {},
   "source": [
    "# Q1.\n",
    "\n",
    "✎ Implement a function that builds the following dataframe.\n",
    "\n",
    "|month| city | product_name | sales |\n",
    "|-----|------|---------|-------|\n",
    "|Jan  |Toronto | bread | 190 |\n",
    "|Jan  |Montreal | bread | 210 |\n",
    "|Jan  |Ottawa | bread | 190 |\n",
    "|Jan  |Vancouver | bread | 210 |\n",
    "|Jan  |Toronto | cheese | 310 |\n",
    "|Jan  |Montreal | cheese | 510 |\n",
    "|Feb  |Toronto | bread | 230 |\n",
    "|Feb  |Montreal | bread | 220 |\n",
    "|Feb  |Montreal | cheese | 310 |\n"
   ]
  },
  {
   "cell_type": "code",
   "execution_count": 2,
   "metadata": {},
   "outputs": [],
   "source": [
    "def build_df():\n",
    "    df = pd.DataFrame(\n",
    "    [[\"Jan\",\"Toronto\",\"bread\",190],\n",
    "    [\"Jan\",\"Montreal\",\"bread\",210],\n",
    "    [\"Jan\",\"Ottawa\",\"bread\",190],\n",
    "    [\"Jan\",\"Vancouver\",\"bread\",210],\n",
    "    [\"Jan\",\"Toronto\",\"cheese\",310],\n",
    "    [\"Jan\",\"Montreal\",\"cheese\",510],\n",
    "    [\"Feb\",\"Toronto\",\"bread\",230],\n",
    "    [\"Feb\",\"Montreal\",\"bread\",220],\n",
    "    [\"Feb\",\"Montreal\",\"cheese\",310]])\n",
    "    df.columns = ['month','city','product_name','sales']\n",
    "    return df\n",
    "\n",
    "\n",
    "    # Complete"
   ]
  },
  {
   "cell_type": "markdown",
   "metadata": {},
   "source": [
    "# Q2.\n",
    "\n",
    "✎ Implement a function that retrieves the column 'city' as a series.\n",
    "\n",
    "The function expected a dataframe that is built by `build_df`."
   ]
  },
  {
   "cell_type": "code",
   "execution_count": 3,
   "metadata": {},
   "outputs": [],
   "source": [
    "def city_column(df):\n",
    "    return df['city']\n",
    "    # complete"
   ]
  },
  {
   "cell_type": "markdown",
   "metadata": {},
   "source": [
    "# Q3\n",
    "\n",
    "Find the rows of involving the product of _cheese_.\n",
    "\n",
    "Again, you need to implement a function that accepts the dataframe as its argument, and returns\n",
    "a new dataframe with rows corresponding to _cheese_."
   ]
  },
  {
   "cell_type": "code",
   "execution_count": 4,
   "metadata": {},
   "outputs": [],
   "source": [
    "def cheese_rows(df):\n",
    "    return df[df.product_name == 'cheese']\n",
    "\n",
    "    # complete"
   ]
  },
  {
   "cell_type": "markdown",
   "metadata": {},
   "source": [
    "# Q4\n",
    "\n",
    "Find the cities and sales of cheese in a given month.\n",
    "\n",
    "Implement a function that performs the data processing.  The function accepts two arguments:\n",
    "\n",
    "1. the dataframe built by `build_df()`.\n",
    "2. the month as a string, e.g. \"Jan\", \"Feb\"."
   ]
  },
  {
   "cell_type": "code",
   "execution_count": 5,
   "metadata": {},
   "outputs": [],
   "source": [
    "def cheese_sales(df, month):\n",
    "     return cheese_rows(df).loc[df.month == month, [\"city\",\"sales\"]]\n",
    "    # complete"
   ]
  },
  {
   "cell_type": "code",
   "execution_count": null,
   "metadata": {},
   "outputs": [],
   "source": []
  },
  {
   "cell_type": "code",
   "execution_count": 6,
   "metadata": {},
   "outputs": [],
   "source": [
    "df = build_df()\n",
    "answer1 = \"\"\"\n",
    "    month       city product_name  sales\n",
    "0   Jan    Toronto        bread    190\n",
    "1   Jan   Montreal        bread    210\n",
    "2   Jan     Ottawa        bread    190\n",
    "3   Jan  Vancouver        bread    210\n",
    "4   Jan    Toronto       cheese    310\n",
    "5   Jan   Montreal       cheese    510\n",
    "6   Feb    Toronto        bread    230\n",
    "7   Feb   Montreal        bread    220\n",
    "8   Feb   Montreal       cheese    310\n",
    "\"\"\"\n",
    "assert(str(df).strip() == answer1.strip())"
   ]
  },
  {
   "cell_type": "code",
   "execution_count": 7,
   "metadata": {},
   "outputs": [],
   "source": [
    "cities = city_column(df)\n",
    "assert(isinstance(cities, pd.Series))"
   ]
  },
  {
   "cell_type": "code",
   "execution_count": 8,
   "metadata": {},
   "outputs": [],
   "source": [
    "assert(cities.name == 'city')"
   ]
  },
  {
   "cell_type": "code",
   "execution_count": 9,
   "metadata": {},
   "outputs": [],
   "source": [
    "assert(set(cities.values) == {'Toronto', 'Vancouver', 'Montreal', 'Ottawa'})"
   ]
  },
  {
   "cell_type": "code",
   "execution_count": 10,
   "metadata": {},
   "outputs": [],
   "source": [
    "cheese = cheese_rows(df)\n",
    "assert(set(cheese.columns) == {'city', 'month', 'product_name', 'sales'})"
   ]
  },
  {
   "cell_type": "code",
   "execution_count": 11,
   "metadata": {},
   "outputs": [],
   "source": [
    "assert(cheese.sales.sum() == 1130)"
   ]
  },
  {
   "cell_type": "code",
   "execution_count": 12,
   "metadata": {},
   "outputs": [],
   "source": [
    "cheese_1 = cheese_sales(df, 'Jan')\n",
    "cheese_2 = cheese_sales(df, 'Feb')\n",
    "assert(set(cheese_1.columns) == {'city', 'sales'})\n",
    "assert(set(cheese_2.columns) == {'city', 'sales'})"
   ]
  },
  {
   "cell_type": "code",
   "execution_count": 13,
   "metadata": {},
   "outputs": [],
   "source": [
    "assert(cheese_1.shape == (2,2))"
   ]
  },
  {
   "cell_type": "code",
   "execution_count": 14,
   "metadata": {},
   "outputs": [],
   "source": [
    "assert(cheese_2.shape == (1,2))"
   ]
  },
  {
   "cell_type": "code",
   "execution_count": 15,
   "metadata": {},
   "outputs": [],
   "source": [
    "assert(cheese_1.sales.sum() == 820)\n",
    "assert(cheese_2.sales.sum() == 310)"
   ]
  }
 ],
 "metadata": {
  "kernelspec": {
   "display_name": "Python 3",
   "language": "python",
   "name": "python3"
  },
  "language_info": {
   "codemirror_mode": {
    "name": "ipython",
    "version": 3
   },
   "file_extension": ".py",
   "mimetype": "text/x-python",
   "name": "python",
   "nbconvert_exporter": "python",
   "pygments_lexer": "ipython3",
   "version": "3.7.3"
  }
 },
 "nbformat": 4,
 "nbformat_minor": 4
}
