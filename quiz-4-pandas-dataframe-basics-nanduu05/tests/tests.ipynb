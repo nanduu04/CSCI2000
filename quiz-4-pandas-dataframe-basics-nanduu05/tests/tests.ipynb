{
 "cells": [
  {
   "cell_type": "code",
   "execution_count": 50,
   "metadata": {},
   "outputs": [],
   "source": [
    "df = build_df()\n",
    "answer1 = \"\"\"\n",
    "    month       city product_name  sales\n",
    "0   Jan    Toronto        bread    190\n",
    "1   Jan   Montreal        bread    210\n",
    "2   Jan     Ottawa        bread    190\n",
    "3   Jan  Vancouver        bread    210\n",
    "4   Jan    Toronto       cheese    310\n",
    "5   Jan   Montreal       cheese    510\n",
    "6   Feb    Toronto        bread    230\n",
    "7   Feb   Montreal        bread    220\n",
    "8   Feb   Montreal       cheese    310\n",
    "\"\"\"\n",
    "assert(str(df).strip() == answer1.strip())"
   ]
  },
  {
   "cell_type": "code",
   "execution_count": 65,
   "metadata": {},
   "outputs": [],
   "source": [
    "cities = city_column(df)\n",
    "assert(isinstance(cities, pd.Series))"
   ]
  },
  {
   "cell_type": "code",
   "execution_count": 66,
   "metadata": {},
   "outputs": [],
   "source": [
    "assert(cities.name == 'city')"
   ]
  },
  {
   "cell_type": "code",
   "execution_count": 69,
   "metadata": {},
   "outputs": [],
   "source": [
    "assert(set(cities.values) == {'Toronto', 'Vancouver', 'Montreal', 'Ottawa'})"
   ]
  },
  {
   "cell_type": "code",
   "execution_count": 79,
   "metadata": {},
   "outputs": [],
   "source": [
    "cheese = cheese_rows(df)\n",
    "assert(set(cheese.columns) == {'city', 'month', 'product_name', 'sales'})"
   ]
  },
  {
   "cell_type": "code",
   "execution_count": 78,
   "metadata": {},
   "outputs": [],
   "source": [
    "assert(cheese.sales.sum() == 1130)"
   ]
  },
  {
   "cell_type": "code",
   "execution_count": 82,
   "metadata": {},
   "outputs": [],
   "source": [
    "cheese_1 = cheese_sales(df, 'Jan')\n",
    "cheese_2 = cheese_sales(df, 'Feb')\n",
    "assert(set(cheese_1.columns) == {'city', 'sales'})\n",
    "assert(set(cheese_2.columns) == {'city', 'sales'})"
   ]
  },
  {
   "cell_type": "code",
   "execution_count": 88,
   "metadata": {},
   "outputs": [],
   "source": [
    "assert(cheese_1.shape == (2,2))"
   ]
  },
  {
   "cell_type": "code",
   "execution_count": 87,
   "metadata": {},
   "outputs": [],
   "source": [
    "assert(cheese_2.shape == (1,2))"
   ]
  },
  {
   "cell_type": "code",
   "execution_count": 90,
   "metadata": {},
   "outputs": [
    {
     "data": {
      "text/plain": [
       "True"
      ]
     },
     "execution_count": 90,
     "metadata": {},
     "output_type": "execute_result"
    }
   ],
   "source": [
    "assert(cheese_1.sales.sum() == 820)\n",
    "assert(cheese_2.sales.sum() == 310)"
   ]
  }
 ],
 "metadata": {
  "kernelspec": {
   "display_name": "Python 3",
   "language": "python",
   "name": "python3"
  },
  "language_info": {
   "codemirror_mode": {
    "name": "ipython",
    "version": 3
   },
   "file_extension": ".py",
   "mimetype": "text/x-python",
   "name": "python",
   "nbconvert_exporter": "python",
   "pygments_lexer": "ipython3",
   "version": "3.6.8"
  }
 },
 "nbformat": 4,
 "nbformat_minor": 4
}
